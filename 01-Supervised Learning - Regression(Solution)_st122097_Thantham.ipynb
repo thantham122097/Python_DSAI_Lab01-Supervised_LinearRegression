{
 "cells": [
  {
   "cell_type": "markdown",
   "metadata": {},
   "source": [
    "# Lab 01 Python for DS and AI - Supervised Learning - Regression\n",
    "\n",
    "## Name Thantham Khamyai\n",
    "## Student"
   ]
  },
  {
   "cell_type": "markdown",
   "metadata": {},
   "source": [
    "# Import neccessary packages"
   ]
  },
  {
   "cell_type": "code",
   "execution_count": 1,
   "metadata": {},
   "outputs": [],
   "source": [
    "import numpy as np\n",
    "from sklearn.datasets import load_boston\n",
    "from sklearn.model_selection import train_test_split\n",
    "from sklearn.preprocessing import StandardScaler"
   ]
  },
  {
   "cell_type": "markdown",
   "metadata": {},
   "source": [
    "## Utility functions"
   ]
  },
  {
   "cell_type": "code",
   "execution_count": 2,
   "metadata": {},
   "outputs": [],
   "source": [
    "# for avoiding repeatitive step of intercepts insertion, make function to do that\n",
    "def add_intercept(X):\n",
    "    ones_intercept = np.ones((X.shape[0], 1))\n",
    "    return np.concatenate((ones_intercept, X), axis=1)"
   ]
  },
  {
   "cell_type": "markdown",
   "metadata": {},
   "source": [
    "# Model class declaration\n",
    "\n",
    "## Tasks completed\n",
    "\n",
    "### 1. add option 'early_stopping' as boolean set in a model argument\n",
    "### 2. 'stochastic' method option and investigating random select sample with non repeartitive until all\n",
    "### 3. add option 'mini-batch' method with 'mini_batch_size' parameter can be defined "
   ]
  },
  {
   "cell_type": "code",
   "execution_count": 3,
   "metadata": {},
   "outputs": [],
   "source": [
    "class LinearRegression:\n",
    "    \n",
    "    def __init__(self, method='batch', max_iterations=10000, early_stopping=False,\n",
    "                       alpha=.0001, tol=.00001, mini_batch_size=100, previous_loss=10000):\n",
    "        self.method = method\n",
    "        self.max_iterations = max_iterations\n",
    "        self.early_stopping = early_stopping\n",
    "        self.alpha = alpha\n",
    "        self.tol = tol\n",
    "        self.mini_batch_size = mini_batch_size\n",
    "        self.previous_loss = previous_loss\n",
    "\n",
    "        \n",
    "    def fit(self, X, y):\n",
    "        # 1. initalize theta\n",
    "        self.theta = self.init_theta(X)\n",
    "        \n",
    "        # init blank used idx list for check repeatitive idx of stochastiac method\n",
    "        idx_used = []\n",
    "        \n",
    "        # 2. loop along predefined n iterations\n",
    "        for i in range(self.max_iterations):\n",
    "\n",
    "            # 2.1 condition to choose method\n",
    "            if self.method=='batch':\n",
    "                # pass all samples\n",
    "                x_to_train = X # dump all x\n",
    "                y_to_train = y # dump sll y\n",
    "\n",
    "            elif self.method=='stochastic':\n",
    "                # randomly select 1 sample\n",
    "                select_idx = np.random.randint(X.shape[0])# random idx\n",
    "                while select_idx in idx_used:\n",
    "                    select_idx = np.random.randint(X.shape[0])# random idx\n",
    "                    \n",
    "                x_to_train = np.array([X[select_idx, :]]) # extract one X by idx \n",
    "                y_to_train = np.array([y[select_idx]]) # extract one y by idx\n",
    "                \n",
    "                idx_used.append(select_idx)\n",
    "                \n",
    "                if len(idx_used) == X.shape[0]:\n",
    "                    idx_used = []\n",
    "\n",
    "            elif self.method=='mini-batch':\n",
    "                # randomly select portion of samples following predefined mini batch size\n",
    "                select_start_idx = np.random.randint(X.shape[0] - self.mini_batch_size) # random starting idx\n",
    "                x_to_train = X[select_start_idx:select_start_idx + self.mini_batch_size, :] # extract portion of X\n",
    "                y_to_train = y[select_start_idx:select_start_idx + self.mini_batch_size] # extract portion of y\n",
    "\n",
    "            else:\n",
    "                print('''wrong method defined 'batch','stochastic','mini-batch' only''')\n",
    "                break\n",
    "\n",
    "            # 2.2 predict y hat by dot x_to_train with theta\n",
    "            yhat = self.predict(x_to_train)\n",
    "\n",
    "            # 2.3 calculate error by minus yhst with y_to_train\n",
    "            error = yhat - y_to_train\n",
    "\n",
    "            # 2.4 calculate current mse to detect early stopping\n",
    "            current_loss = self.mse(yhat, y_to_train)\n",
    "\n",
    "            # 2.5 if early stopping set as True & difference of current and previous loss is less than threshold\n",
    "            if self.early_stopping & (np.abs(self.previous_loss - current_loss) < self.tol):\n",
    "\n",
    "                # print early stopped epoch and exit loop\n",
    "                print(f'early_stopped at epoch: {i+1}')\n",
    "                break\n",
    "\n",
    "            # 2.6 if not early stop or set False, update previous loss\n",
    "            self.previous_loss = current_loss\n",
    "\n",
    "            # 2.7 calculate gradient of trainingdata\n",
    "            grad = self.gradient(x_to_train, error)\n",
    "\n",
    "            # 2.8 update theta\n",
    "            self.theta = self.theta - self.alpha * grad\n",
    "        \n",
    "    # function to predict yhat   \n",
    "    def predict(self, X):\n",
    "        return X @ self.theta\n",
    "\n",
    "    # function to calculate loss\n",
    "    def mse(self, yhat, y):\n",
    "        return ((yhat - y)**2).sum() / yhat.shape[0]\n",
    "\n",
    "    # function to calculate gradient\n",
    "    def gradient(self, X, error):\n",
    "        return X.T @ error\n",
    "\n",
    "    # function to create initial theta\n",
    "    def init_theta(self, X):\n",
    "        return np.zeros((X.shape[1]))        \n"
   ]
  },
  {
   "cell_type": "markdown",
   "metadata": {},
   "source": [
    "# Model Testing"
   ]
  },
  {
   "cell_type": "markdown",
   "metadata": {},
   "source": [
    "## 1 Load Data Into X, y"
   ]
  },
  {
   "cell_type": "code",
   "execution_count": 4,
   "metadata": {},
   "outputs": [
    {
     "name": "stdout",
     "output_type": "stream",
     "text": [
      "number of samples (m): 506\n",
      "number of features (n): 13\n",
      "shape of x: (506, 13)\n",
      "shape of y: (506,)\n"
     ]
    }
   ],
   "source": [
    "boston = load_boston()\n",
    "\n",
    "X = boston.data\n",
    "y = boston.target\n",
    "\n",
    "print(f'number of samples (m): {X.shape[0]}')\n",
    "print(f'number of features (n): {X.shape[1]}')\n",
    "print(f'shape of x: {X.shape}')\n",
    "print(f'shape of y: {y.shape}')"
   ]
  },
  {
   "cell_type": "markdown",
   "metadata": {},
   "source": [
    "## 2 Scaling Data"
   ]
  },
  {
   "cell_type": "code",
   "execution_count": 5,
   "metadata": {},
   "outputs": [],
   "source": [
    "scaler = StandardScaler()\n",
    "X = scaler.fit_transform(X)"
   ]
  },
  {
   "cell_type": "markdown",
   "metadata": {},
   "source": [
    "## 3 Add Intercept Term "
   ]
  },
  {
   "cell_type": "code",
   "execution_count": 6,
   "metadata": {},
   "outputs": [
    {
     "name": "stdout",
     "output_type": "stream",
     "text": [
      "shape of X after insert intercepts: (506, 14)\n"
     ]
    }
   ],
   "source": [
    "X = add_intercept(X)\n",
    "\n",
    "print(f'shape of X after insert intercepts: {X.shape}')"
   ]
  },
  {
   "cell_type": "markdown",
   "metadata": {},
   "source": [
    "## 4 Train Test Splitting"
   ]
  },
  {
   "cell_type": "code",
   "execution_count": 7,
   "metadata": {},
   "outputs": [
    {
     "name": "stdout",
     "output_type": "stream",
     "text": [
      "shape of X_train: (354, 14)\n",
      "shape of X_test: (152, 14)\n",
      "shape of y_train: (354,)\n",
      "shape of y_test: (152,)\n"
     ]
    }
   ],
   "source": [
    "X_train, X_test, y_train, y_test = train_test_split(X, y, test_size = 0.3)\n",
    "\n",
    "print(f'shape of X_train: {X_train.shape}')\n",
    "print(f'shape of X_test: {X_test.shape}')\n",
    "print(f'shape of y_train: {y_train.shape}')\n",
    "print(f'shape of y_test: {y_test.shape}')"
   ]
  },
  {
   "cell_type": "markdown",
   "metadata": {},
   "source": [
    "## 5 Model Instance Create and Fitting"
   ]
  },
  {
   "cell_type": "code",
   "execution_count": 8,
   "metadata": {},
   "outputs": [
    {
     "name": "stdout",
     "output_type": "stream",
     "text": [
      "early_stopped at epoch: 1224\n"
     ]
    }
   ],
   "source": [
    "# selective methods : 'batch', 'mini-batch', 'stochastic'\n",
    "\n",
    "model = LinearRegression(method='batch', max_iterations=300000, early_stopping=True, alpha=0.0001, tol=0.00001, mini_batch_size=50)\n",
    "model.fit(X_train, y_train)"
   ]
  },
  {
   "cell_type": "markdown",
   "metadata": {},
   "source": [
    "## 6 Predict y and Show MSE"
   ]
  },
  {
   "cell_type": "code",
   "execution_count": 9,
   "metadata": {},
   "outputs": [
    {
     "name": "stdout",
     "output_type": "stream",
     "text": [
      "MSE after fitting: 21.08105356440145\n"
     ]
    }
   ],
   "source": [
    "y_pred = model.predict(X_test)\n",
    "mse = model.mse(y_pred, y_test)\n",
    "\n",
    "print(f'MSE after fitting: {mse}')"
   ]
  },
  {
   "cell_type": "code",
   "execution_count": null,
   "metadata": {},
   "outputs": [],
   "source": []
  }
 ],
 "metadata": {
  "kernelspec": {
   "display_name": "Python 3",
   "language": "python",
   "name": "python3"
  },
  "language_info": {
   "codemirror_mode": {
    "name": "ipython",
    "version": 3
   },
   "file_extension": ".py",
   "mimetype": "text/x-python",
   "name": "python",
   "nbconvert_exporter": "python",
   "pygments_lexer": "ipython3",
   "version": "3.8.3"
  }
 },
 "nbformat": 4,
 "nbformat_minor": 4
}
